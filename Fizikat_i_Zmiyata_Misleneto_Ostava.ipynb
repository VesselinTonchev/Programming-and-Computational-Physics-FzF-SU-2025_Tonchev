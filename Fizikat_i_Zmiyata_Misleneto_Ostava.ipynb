{
 "cells": [
  {
   "cell_type": "markdown",
   "id": "a09900be",
   "metadata": {},
   "source": [
    "# 🐍 Физикът и Змията: **Мисленето остава**  \n",
    "*(The Physicist & the Snake: Thinking Remains)*\n",
    "\n",
    "> **„Много неща можем да възложим на Змията.  \n",
    "> Но от едно не можем да се отървем — мисленето, бързо и бавно.  \n",
    "> Защото ако сгрешим, само на себе си можем да се сърдим.  \n",
    "> Змията е непричем.“**  \n",
    "> — В. Тончев\n",
    "\n",
    "**Замисъл (Idea):** Този notebook показва Python като инструмент за мислещ физик —\n",
    "не „машина за отговори“, а *среда за експериментално мислене* (computational thinking).  \n",
    "Лека доза самоирония към Змията (Python) е включена. 🙂\n"
   ]
  },
  {
   "cell_type": "markdown",
   "id": "fb261128",
   "metadata": {},
   "source": [
    "## 1) Змията се събужда (The interpreter wakes up)\n",
    "\n",
    "Python е *интерпретатор* (interpreter): изпълнява ред по ред. Това позволява\n",
    "на физика да *експериментира мисловно* — като в лаборатория: правиш стъпка,\n",
    "виждаш резултат, калибрираш.\n"
   ]
  },
  {
   "cell_type": "code",
   "execution_count": null,
   "id": "0c895e87",
   "metadata": {},
   "outputs": [],
   "source": [
    "print(\"Hello, Universe!\")\n",
    "# Наблюдение (Observation): ако видите това съобщение, интерпретаторът работи."
   ]
  },
  {
   "cell_type": "markdown",
   "id": "1a2535cb",
   "metadata": {},
   "source": [
    "## 2) От формули към числа (From formulas to numbers)\n",
    "\n",
    "Хубавият код в науката е *прозрачен*: величини със смисъл, единици, проверки.\n",
    "Пример: скорост при удар след свободно падане от височина *h*.\n"
   ]
  },
  {
   "cell_type": "code",
   "execution_count": null,
   "id": "b77ddc11",
   "metadata": {},
   "outputs": [],
   "source": [
    "g = 9.81  # m/s^2, ускорение на свободно падане (acceleration of gravity)\n",
    "h = 12.3  # m, височина (height)\n",
    "v = (2 * g * h) ** 0.5\n",
    "print(f\"Скорост при удар (impact speed): {v:.3f} m/s\")"
   ]
  },
  {
   "cell_type": "markdown",
   "id": "99b95e2a",
   "metadata": {},
   "source": [
    "## 3) Мислене бързо и бавно (Thinking, Fast and Slow)\n",
    "\n",
    "Бързото мислене (System 1): „Формулата е вярна — давай!“  \n",
    "Бавното мислене (System 2): „Провери размерности, граници, дефиниции.“\n",
    "\n",
    "Ще капсулираме изчислението във функция с прости проверки — за да се *разговаряме* със Змията.\n"
   ]
  },
  {
   "cell_type": "code",
   "execution_count": null,
   "id": "b7d24231",
   "metadata": {},
   "outputs": [],
   "source": [
    "def time_of_free_fall(h, g=9.81):\n",
    "    \"\"\"Време на свободно падане от височина h при ускорение g.\n",
    "    Args:\n",
    "        h (float): височина в метри (height, m)\n",
    "        g (float): ускорение (acceleration), m/s^2\n",
    "    Returns:\n",
    "        float: време (time) в секунди\n",
    "    Raises:\n",
    "        ValueError: ако h < 0 или g <= 0\n",
    "    \"\"\"\n",
    "    # Бавно мислене: във физиката h >= 0 и g > 0 в този модел\n",
    "    if h < 0:\n",
    "        raise ValueError(\"В този модел височината h трябва да е >= 0.\")\n",
    "    if g <= 0:\n",
    "        raise ValueError(\"Ускорението g трябва да е > 0.\")\n",
    "    return (2 * h / g) ** 0.5\n",
    "\n",
    "print(\"t(h=12.3 m) =\", round(time_of_free_fall(12.3), 3), \"s\")"
   ]
  },
  {
   "cell_type": "markdown",
   "id": "3c676290",
   "metadata": {},
   "source": [
    "## 4) Разговор със Змията (Dialogue with the Snake)\n",
    "\n",
    "Грешката е обратна връзка (feedback), не катастрофа. Нека *нарочно* провокираме грешка\n",
    "и я обработим културно.\n"
   ]
  },
  {
   "cell_type": "code",
   "execution_count": null,
   "id": "5c8a0a2e",
   "metadata": {},
   "outputs": [],
   "source": [
    "try:\n",
    "    print(\"t(h=-1 m) =\", time_of_free_fall(-1))\n",
    "except Exception as e:\n",
    "    print(\"Змията съска (the Snake hisses):\", e)"
   ]
  },
  {
   "cell_type": "markdown",
   "id": "7451d79e",
   "metadata": {},
   "source": [
    "## 5) Визуализация: проста траектория (Single visualization: simple trajectory)\n",
    "\n",
    "Една картина = много числа. Ще моделираме класически\n",
    "хвърляне под ъгъл (projectile motion) без съпротивление (no drag).\n"
   ]
  },
  {
   "cell_type": "code",
   "execution_count": null,
   "id": "89b73d5d",
   "metadata": {},
   "outputs": [],
   "source": [
    "import numpy as np\n",
    "import matplotlib.pyplot as plt\n",
    "\n",
    "g = 9.81\n",
    "v0 = 20.0         # m/s\n",
    "alpha = np.deg2rad(35)  # radians\n",
    "\n",
    "t_end = 2 * v0 * np.sin(alpha) / g\n",
    "t = np.linspace(0, t_end, 200)\n",
    "x = v0 * np.cos(alpha) * t\n",
    "y = v0 * np.sin(alpha) * t - 0.5 * g * t**2\n",
    "\n",
    "plt.figure()\n",
    "plt.plot(x, y)\n",
    "plt.xlabel(\"x (m)\")\n",
    "plt.ylabel(\"y (m)\")\n",
    "plt.title(\"Проектил без съпротивление (Projectile without drag)\")\n",
    "plt.grid(True)\n",
    "plt.show()"
   ]
  },
  {
   "cell_type": "markdown",
   "id": "fb1feec5",
   "metadata": {},
   "source": [
    "## 6) Финална бележка (Final note) и мини-задача\n",
    "\n",
    "**Финална бележка:** Изчислението може да е бързо, но *мисленето остава човешко*.\n",
    "Задавайте въпроси към модела, не към синтаксиса.\n",
    "\n",
    "**Мини-задача (Mini-task):**\n",
    "1. Променете ъгъла `alpha` и началната скорост `v0`. Къде е далекобойността максимална? (Hint: при липса на съпротивление — 45°)\n",
    "\n",
    "2. Добавете проверка във функцията `time_of_free_fall` за нечислов вход (non-numeric input). Подайте низ и вижте какво се случва.\n",
    "\n",
    "3. Помислете: *Как бихме проверили размерностите автоматично?* (подсказка: `pint`, `sympy`, или ръчно — със структурирани коментари).\n"
   ]
  },
  {
   "cell_type": "markdown",
   "id": "6be14b63",
   "metadata": {},
   "source": [
    "---\n",
    "*Notebook version:* 1.0 • *Generated:* 2025-10-06 07:10:30  \n",
    "Авторски бележки: Тонът е **B (диалог и хумор)**, без да се губи **A (интелектуална яснота)**.  \n",
    "Език: Български с английски термини в скоби.\n"
   ]
  }
 ],
 "metadata": {},
 "nbformat": 4,
 "nbformat_minor": 5
}
